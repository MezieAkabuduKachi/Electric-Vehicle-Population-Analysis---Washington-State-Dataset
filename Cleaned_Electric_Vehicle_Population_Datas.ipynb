{
 "cells": [
  {
   "cell_type": "code",
   "execution_count": 53,
   "id": "2095facc",
   "metadata": {},
   "outputs": [],
   "source": [
    "# Import necessary libraries\n",
    "import pandas as pd\n",
    "import numpy as np"
   ]
  },
  {
   "cell_type": "code",
   "execution_count": 54,
   "id": "702864c7",
   "metadata": {},
   "outputs": [
    {
     "data": {
      "text/plain": [
       "<bound method NDFrame.head of         VIN (1-10)     County               City State  Postal Code  \\\n",
       "0       5YJ3E1EB0J   Thurston            Olympia    WA      98512.0   \n",
       "1       WA1AAAGE9M     Kitsap       Port Orchard    WA      98367.0   \n",
       "2       5YJ3E1EA2J     Yakima             Yakima    WA      98902.0   \n",
       "3       5YJ3E1EA4N     Yakima             Yakima    WA      98902.0   \n",
       "4       7SAYGAEE2P  Snohomish            Bothell    WA      98012.0   \n",
       "...            ...        ...                ...   ...          ...   \n",
       "200043  JTMAB3FVXR  Snohomish          Snohomish    WA      98290.0   \n",
       "200044  7FCTGAAA7P     Pierce             Orting    WA      98360.0   \n",
       "200045  1V2GNPE87P    Spokane            Spokane    WA      99201.0   \n",
       "200046  1G1RD6E42E  Snohomish  Mountlake Terrace    WA      98043.0   \n",
       "200047  5YJ3E1EAXP     Kitsap          Bremerton    WA      98311.0   \n",
       "\n",
       "        Model Year        Make       Model  \\\n",
       "0             2018       TESLA     MODEL 3   \n",
       "1             2021        AUDI      E-TRON   \n",
       "2             2018       TESLA     MODEL 3   \n",
       "3             2022       TESLA     MODEL 3   \n",
       "4             2023       TESLA     MODEL Y   \n",
       "...            ...         ...         ...   \n",
       "200043        2024      TOYOTA  RAV4 PRIME   \n",
       "200044        2023      RIVIAN         R1T   \n",
       "200045        2023  VOLKSWAGEN        ID.4   \n",
       "200046        2014   CHEVROLET        VOLT   \n",
       "200047        2023       TESLA     MODEL 3   \n",
       "\n",
       "                         Electric Vehicle Type  Electric Range  Base MSRP  \\\n",
       "0               Battery Electric Vehicle (BEV)             215          0   \n",
       "1               Battery Electric Vehicle (BEV)             222          0   \n",
       "2               Battery Electric Vehicle (BEV)             215          0   \n",
       "3               Battery Electric Vehicle (BEV)               0          0   \n",
       "4               Battery Electric Vehicle (BEV)               0          0   \n",
       "...                                        ...             ...        ...   \n",
       "200043  Plug-in Hybrid Electric Vehicle (PHEV)              42          0   \n",
       "200044          Battery Electric Vehicle (BEV)               0          0   \n",
       "200045          Battery Electric Vehicle (BEV)               0          0   \n",
       "200046  Plug-in Hybrid Electric Vehicle (PHEV)              38          0   \n",
       "200047          Battery Electric Vehicle (BEV)               0          0   \n",
       "\n",
       "        Legislative District  DOL Vehicle ID  \\\n",
       "0                       35.0       104823078   \n",
       "1                       35.0       156660507   \n",
       "2                       14.0       269374108   \n",
       "3                       15.0       213383894   \n",
       "4                        1.0       229496046   \n",
       "...                      ...             ...   \n",
       "200043                  44.0       262809249   \n",
       "200044                   2.0       252195450   \n",
       "200045                   3.0       227314790   \n",
       "200046                  32.0       170747377   \n",
       "200047                  23.0       224663134   \n",
       "\n",
       "                                     Electric Utility  \n",
       "0                              PUGET SOUND ENERGY INC  \n",
       "1                              PUGET SOUND ENERGY INC  \n",
       "2                                          PACIFICORP  \n",
       "3                                          PACIFICORP  \n",
       "4                              PUGET SOUND ENERGY INC  \n",
       "...                                               ...  \n",
       "200043                         PUGET SOUND ENERGY INC  \n",
       "200044  PUGET SOUND ENERGY INC||CITY OF TACOMA - (WA)  \n",
       "200045                  MODERN ELECTRIC WATER COMPANY  \n",
       "200046                         PUGET SOUND ENERGY INC  \n",
       "200047                         PUGET SOUND ENERGY INC  \n",
       "\n",
       "[200048 rows x 14 columns]>"
      ]
     },
     "execution_count": 54,
     "metadata": {},
     "output_type": "execute_result"
    }
   ],
   "source": [
    "# Load dataset\n",
    "df= pd.read_csv('Electric_Vehicle_Population_Datas.csv')\n",
    "df.head"
   ]
  },
  {
   "cell_type": "markdown",
   "id": "605b5d70",
   "metadata": {},
   "source": [
    "# Check the dataset"
   ]
  },
  {
   "cell_type": "code",
   "execution_count": 55,
   "id": "c822ce67",
   "metadata": {},
   "outputs": [
    {
     "data": {
      "text/plain": [
       "(200048, 14)"
      ]
     },
     "execution_count": 55,
     "metadata": {},
     "output_type": "execute_result"
    }
   ],
   "source": [
    "df.shape"
   ]
  },
  {
   "cell_type": "markdown",
   "id": "11f8c6b6",
   "metadata": {},
   "source": [
    "# 1. Check for missing values"
   ]
  },
  {
   "cell_type": "markdown",
   "id": "13fc2944",
   "metadata": {},
   "source": [
    "## Missing Values: We check for missing values across all columns."
   ]
  },
  {
   "cell_type": "code",
   "execution_count": 56,
   "id": "9e0133d1",
   "metadata": {
    "scrolled": true
   },
   "outputs": [
    {
     "name": "stdout",
     "output_type": "stream",
     "text": [
      "Missing values in each column:\n",
      "VIN (1-10)                 0\n",
      "County                     4\n",
      "City                       4\n",
      "State                      0\n",
      "Postal Code                4\n",
      "Model Year                 0\n",
      "Make                       0\n",
      "Model                      0\n",
      "Electric Vehicle Type      0\n",
      "Electric Range             0\n",
      "Base MSRP                  0\n",
      "Legislative District     442\n",
      "DOL Vehicle ID             0\n",
      "Electric Utility           4\n",
      "dtype: int64\n"
     ]
    }
   ],
   "source": [
    "missing_values = df.isnull().sum()\n",
    "print(\"Missing values in each column:\")\n",
    "print(missing_values)"
   ]
  },
  {
   "cell_type": "markdown",
   "id": "41f51756",
   "metadata": {},
   "source": [
    "# Drop rows with missing values"
   ]
  },
  {
   "cell_type": "code",
   "execution_count": 57,
   "id": "b2e8c3c3",
   "metadata": {},
   "outputs": [
    {
     "name": "stdout",
     "output_type": "stream",
     "text": [
      "\n",
      "Rows with missing values dropped. New shape: (199606, 14)\n"
     ]
    }
   ],
   "source": [
    "important_columns = ['County', 'City', 'Postal Code', 'Legislative District', 'Electric Utility']\n",
    "df = df.dropna(subset=important_columns)\n",
    "\n",
    "print(\"\\nRows with missing values dropped. New shape:\", df.shape)"
   ]
  },
  {
   "cell_type": "markdown",
   "id": "286dff64",
   "metadata": {},
   "source": [
    "# 2. Remove duplicates (based on VIN)"
   ]
  },
  {
   "cell_type": "markdown",
   "id": "68c39e44",
   "metadata": {},
   "source": [
    "## Remove Duplicates: We remove any duplicate records based on the VIN, which should uniquely identify each vehicle."
   ]
  },
  {
   "cell_type": "code",
   "execution_count": 58,
   "id": "e41205ac",
   "metadata": {},
   "outputs": [
    {
     "name": "stdout",
     "output_type": "stream",
     "text": [
      "\n",
      "Number of duplicate VIN entries: 187637\n"
     ]
    }
   ],
   "source": [
    "# Count duplicates based on VIN (1-10)\n",
    "duplicate_vins = df.duplicated(subset=['VIN (1-10)']).sum()\n",
    "print(f\"\\nNumber of duplicate VIN entries: {duplicate_vins}\")"
   ]
  },
  {
   "cell_type": "code",
   "execution_count": 59,
   "id": "1d8b5fbf",
   "metadata": {},
   "outputs": [
    {
     "name": "stdout",
     "output_type": "stream",
     "text": [
      "\n",
      "Duplicates removed. New shape: (11969, 14)\n"
     ]
    }
   ],
   "source": [
    "df = df.drop_duplicates(subset=['VIN (1-10)'], keep='first')\n",
    "print(\"\\nDuplicates removed. New shape:\", df.shape)"
   ]
  },
  {
   "cell_type": "code",
   "execution_count": 17,
   "id": "17039563",
   "metadata": {},
   "outputs": [
    {
     "data": {
      "text/plain": [
       "187637"
      ]
     },
     "execution_count": 17,
     "metadata": {},
     "output_type": "execute_result"
    }
   ],
   "source": [
    "# Number of columns before removing duplicating= 199606\n",
    "# Number of columns after removing duplicating=11969\n",
    "199606-11969 "
   ]
  },
  {
   "cell_type": "code",
   "execution_count": null,
   "id": "0dbd2b5b",
   "metadata": {},
   "outputs": [],
   "source": [
    "# Therefore the number of Duplicates are 187637"
   ]
  },
  {
   "cell_type": "markdown",
   "id": "7abcd7c4",
   "metadata": {},
   "source": [
    "# 3. Standardize data formats\n",
    "## Normalize text columns (e.g., Make, Model, Electric Vehicle Type) to lowercase"
   ]
  },
  {
   "cell_type": "markdown",
   "id": "ccf59829",
   "metadata": {},
   "source": [
    "### Standardize Data: We normalize the text columns by stripping white spaces and converting everything to lowercase to avoid discrepancies. We ensure that Postal Code has 5 digits and that Model Year is an integer."
   ]
  },
  {
   "cell_type": "code",
   "execution_count": 60,
   "id": "9d4e02a3",
   "metadata": {
    "scrolled": false
   },
   "outputs": [],
   "source": [
    "# Make a copy of the DataFrame to avoid SettingWithCopyWarning\n",
    "df = df.copy()\n",
    "\n",
    "# Standardize text data in specific columns (using .loc to avoid the SettingWithCopyWarning)\n",
    "df.loc[:, text_columns] = df.loc[:, text_columns].apply(lambda x: x.str.strip().str.lower())"
   ]
  },
  {
   "cell_type": "code",
   "execution_count": 61,
   "id": "6523b9d5",
   "metadata": {},
   "outputs": [],
   "source": [
    "# Ensure Postal Code and Model Year have consistent formats\n",
    "df['Postal Code'] = df['Postal Code'].astype(str).str.zfill(5)  # Ensure 5-digit postal codes\n",
    "df['Model Year'] = df['Model Year'].astype(int)  # Convert Model Year to integer"
   ]
  },
  {
   "cell_type": "markdown",
   "id": "3df71947",
   "metadata": {},
   "source": [
    "# 4. Convert data types for numerical columns"
   ]
  },
  {
   "cell_type": "markdown",
   "id": "ee1bfeb0",
   "metadata": {},
   "source": [
    "## Convert Data Types: Numerical columns such as Electric Range, Base MSRP, and Model Year are converted to appropriate numeric types."
   ]
  },
  {
   "cell_type": "code",
   "execution_count": 62,
   "id": "29d938c9",
   "metadata": {},
   "outputs": [],
   "source": [
    "df['Electric Range'] = pd.to_numeric(df['Electric Range'], errors='coerce')\n",
    "df['Base MSRP'] = pd.to_numeric(df['Base MSRP'], errors='coerce')\n",
    "df['Model Year'] = pd.to_numeric(df['Model Year'], errors='coerce')"
   ]
  },
  {
   "cell_type": "markdown",
   "id": "c9799974",
   "metadata": {},
   "source": [
    "# 5. Handle outliers\n",
    "## For Electric Range: Identify unreasonable outliers (e.g., negative values or zeros)\n",
    "### Handle Outliers: We identify unreasonable outliers (like an electric range of 0 or negative values) and filter them out."
   ]
  },
  {
   "cell_type": "code",
   "execution_count": 63,
   "id": "c69326e4",
   "metadata": {},
   "outputs": [
    {
     "name": "stdout",
     "output_type": "stream",
     "text": [
      "\n",
      "Outliers in Electric Range:\n",
      "        VIN (1-10)     County        City State Postal Code  Model Year  \\\n",
      "3       5YJ3E1EA4N     yakima      yakima    WA     98902.0        2022   \n",
      "4       7SAYGAEE2P  snohomish     bothell    WA     98012.0        2023   \n",
      "8       7FCTGBAA7P     kitsap     poulsbo    WA     98370.0        2023   \n",
      "16      5YJ3E1EB3N     yakima      yakima    WA     98902.0        2022   \n",
      "17      WA1LAAGE2P   thurston        yelm    WA     98597.0        2023   \n",
      "...            ...        ...         ...   ...         ...         ...   \n",
      "198708  3FMTK1SU4R  snohomish  marysville    WA     98270.0        2024   \n",
      "198967  3FMTK1SU3R       king    enumclaw    WA     98022.0        2024   \n",
      "199196  1GYKPPRL8P     yakima      wapato    WA     98951.0        2023   \n",
      "199219  WA142BFZ0N      mason       allyn    WA     98524.0        2022   \n",
      "199501  KNDCE3LGXM      lewis    chehalis    WA     98532.0        2021   \n",
      "\n",
      "            Make           Model           Electric Vehicle Type  \\\n",
      "3          tesla         model 3  battery electric vehicle (bev)   \n",
      "4          tesla         model y  battery electric vehicle (bev)   \n",
      "8         rivian             r1t  battery electric vehicle (bev)   \n",
      "16         tesla         model 3  battery electric vehicle (bev)   \n",
      "17          audi          e-tron  battery electric vehicle (bev)   \n",
      "...          ...             ...                             ...   \n",
      "198708      ford  mustang mach-e  battery electric vehicle (bev)   \n",
      "198967      ford  mustang mach-e  battery electric vehicle (bev)   \n",
      "199196  cadillac           lyriq  battery electric vehicle (bev)   \n",
      "199219      audi              q4  battery electric vehicle (bev)   \n",
      "199501       kia            niro  battery electric vehicle (bev)   \n",
      "\n",
      "        Electric Range  Base MSRP  Legislative District  DOL Vehicle ID  \\\n",
      "3                    0          0                  15.0       213383894   \n",
      "4                    0          0                   1.0       229496046   \n",
      "8                    0          0                  23.0       262803131   \n",
      "16                   0          0                  15.0       207337504   \n",
      "17                   0          0                   2.0       227506191   \n",
      "...                ...        ...                   ...             ...   \n",
      "198708               0          0                  38.0       269498064   \n",
      "198967               0          0                  31.0       267036038   \n",
      "199196               0          0                  15.0       267582577   \n",
      "199219               0          0                  35.0       224541635   \n",
      "199501               0          0                  20.0       176517302   \n",
      "\n",
      "                                         Electric Utility  \n",
      "3                                              PACIFICORP  \n",
      "4                                  PUGET SOUND ENERGY INC  \n",
      "8                                  PUGET SOUND ENERGY INC  \n",
      "16                                             PACIFICORP  \n",
      "17                                 PUGET SOUND ENERGY INC  \n",
      "...                                                   ...  \n",
      "198708                             PUGET SOUND ENERGY INC  \n",
      "198967      PUGET SOUND ENERGY INC||CITY OF TACOMA - (WA)  \n",
      "199196                                         PACIFICORP  \n",
      "199219  BONNEVILLE POWER ADMINISTRATION||CITY OF TACOM...  \n",
      "199501  BONNEVILLE POWER ADMINISTRATION||CITY OF TACOM...  \n",
      "\n",
      "[4898 rows x 14 columns]\n"
     ]
    }
   ],
   "source": [
    "outliers_range = df[(df['Electric Range'] <= 0) | (df['Electric Range'].isnull())]\n",
    "print(\"\\nOutliers in Electric Range:\")\n",
    "print(outliers_range)"
   ]
  },
  {
   "cell_type": "code",
   "execution_count": 64,
   "id": "e2afff02",
   "metadata": {},
   "outputs": [],
   "source": [
    "# Remove rows where Electric Range is <= 0\n",
    "df = df[df['Electric Range'] > 0]"
   ]
  },
  {
   "cell_type": "code",
   "execution_count": 65,
   "id": "84f25b9a",
   "metadata": {},
   "outputs": [
    {
     "data": {
      "text/plain": [
       "(7071, 14)"
      ]
     },
     "execution_count": 65,
     "metadata": {},
     "output_type": "execute_result"
    }
   ],
   "source": [
    "# Check new shape of the dataset after outlier removal\n",
    "df.shape"
   ]
  },
  {
   "cell_type": "markdown",
   "id": "2090d8e3",
   "metadata": {},
   "source": [
    "# 6. City & County Verification: Check for consistent naming\n",
    "## Check for unique city and county names\n",
    "### City & County Verification: We check the uniqueness of city and county names to ensure consistency."
   ]
  },
  {
   "cell_type": "code",
   "execution_count": 66,
   "id": "b324e883",
   "metadata": {},
   "outputs": [
    {
     "name": "stdout",
     "output_type": "stream",
     "text": [
      "\n",
      "Unique Cities:\n",
      "['olympia' 'port orchard' 'yakima' 'seattle' 'silverdale' 'snohomish'\n",
      " 'everett' 'coupeville' 'poulsbo' 'greenbank' 'issaquah' 'renton'\n",
      " 'bainbridge island' 'bothell' 'woodinville' 'lynnwood' 'suquamish'\n",
      " 'kingston' 'bremerton' 'duvall' 'lake stevens' 'lacey' 'selah' 'wapato'\n",
      " 'redmond' 'moxee' 'rochester' 'bellevue' 'hansville' 'brier' 'sammamish'\n",
      " 'mill creek' 'yelm' 'edmonds' 'oak harbor' 'moses lake' 'pullman'\n",
      " 'mount vernon' 'clinton' 'valley' 'anacortes' 'sedro-woolley'\n",
      " 'lummi island' 'woodway' 'kirkland' 'normandy park' 'tukwila' 'burien'\n",
      " 'vancouver' 'kent' 'nine mile falls' 'brush prairie' 'shoreline'\n",
      " 'ridgefield' 'newcastle' 'kenmore' 'north bend' 'seatac' 'auburn'\n",
      " 'federal way' 'camas' 'tumwater' 'battle ground' 'washougal'\n",
      " 'port townsend' 'monroe' 'woodland' 'pacific' 'kelso' 'maple valley'\n",
      " 'langley' 'white salmon' 'sequim' 'la center' 'port hadlock'\n",
      " 'lake forest park' 'sunnyside' 'naches' 'covington' 'quilcene' 'longview'\n",
      " 'medina' 'enumclaw' 'mercer island' 'beaux arts' 'indianola'\n",
      " 'port angeles' 'seabeck' 'mukilteo' 'rainier' 'castle rock' 'marysville'\n",
      " 'port ludlow' 'brinnon' 'yacolt' 'olalla' 'kalama' 'tulalip' 'des moines'\n",
      " 'tenino' 'black diamond' 'camano island' 'nordland' 'ariel' 'arlington'\n",
      " 'clyde hill' 'silverlake' 'zillah' 'stanwood' 'centralia' 'grandview'\n",
      " 'algona' 'sumner' 'sultan' 'puyallup' 'vader' 'tacoma' 'bonney lake'\n",
      " 'la conner' 'gig harbor' 'graham' 'richland' 'bellingham' 'south hill'\n",
      " 'mountlake terrace' 'vashon' 'pasco' 'union gap' 'lakewood' 'spanaway'\n",
      " 'spokane' 'fircrest' 'valleyford' 'eastsound' 'spokane valley'\n",
      " 'chattaroy' 'airway heights' 'twisp' 'bow' 'yarrow point' 'chehalis'\n",
      " 'aberdeen' 'lopez island' 'cheney' 'ellensburg' 'stevenson'\n",
      " 'granite falls' 'roy' 'chimacum' 'otis orchards' 'carnation' 'ephrata'\n",
      " 'snoqualmie' 'university place' 'west richland' 'kennewick' 'mazama'\n",
      " 'walla walla' 'winthrop' 'chelan' 'shelton' 'cle elum' 'hunts point'\n",
      " 'outlook' 'freeland' 'east wenatchee' 'liberty lake' 'goldendale'\n",
      " 'buckley' 'orting' 'manson' 'leavenworth' 'fox island' 'newport' 'union'\n",
      " 'ashford' 'blaine' 'friday harbor' 'edgewood' 'tahuya' 'hoquiam'\n",
      " 'wenatchee' 'olga' 'bz corner' 'parkland' 'fife' 'belfair' 'keyport'\n",
      " 'lake tapps' 'mead' 'dupont' 'eatonville' 'veradale' 'clarkston' 'milton'\n",
      " 'everson' 'lynden' 'steilacoom' 'gold bar' 'ocean shores' 'tieton'\n",
      " 'surfside' 'benton city' 'soap lake' 'ruston' 'othello' 'loon lake'\n",
      " 'brewster' 'fall city' 'westport' 'newman lake' 'packwood' 'toppenish'\n",
      " 'mccleary' 'point roberts' 'sumas' 'ferndale' 'morton' 'orcas'\n",
      " 'grapeview' 'underwood' 'toledo' 'ilwaco' 'elma' 'maple falls' 'orondo'\n",
      " 'colbert' 'snowden' 'greenacres' 'colville' 'deming' 'south bend'\n",
      " 'waterville' 'lyle' 'mattawa' 'burlington' 'lakebay']\n",
      "\n",
      "Unique Counties:\n",
      "['thurston' 'kitsap' 'yakima' 'king' 'snohomish' 'island' 'grant'\n",
      " 'whitman' 'skagit' 'stevens' 'whatcom' 'clark' 'jefferson' 'cowlitz'\n",
      " 'klickitat' 'clallam' 'pierce' 'lewis' 'benton' 'franklin' 'spokane'\n",
      " 'san juan' 'okanogan' 'grays harbor' 'kittitas' 'skamania' 'walla walla'\n",
      " 'chelan' 'mason' 'douglas' 'pend oreille' 'asotin' 'pacific' 'adams']\n"
     ]
    }
   ],
   "source": [
    "unique_cities = df['City'].unique()\n",
    "unique_counties = df['County'].unique()\n",
    "print(\"\\nUnique Cities:\")\n",
    "print(unique_cities)\n",
    "print(\"\\nUnique Counties:\")\n",
    "print(unique_counties)"
   ]
  },
  {
   "cell_type": "markdown",
   "id": "51a4df26",
   "metadata": {},
   "source": [
    "## ALL DONE NOW SAVE"
   ]
  },
  {
   "cell_type": "code",
   "execution_count": 67,
   "id": "8d47c539",
   "metadata": {},
   "outputs": [
    {
     "name": "stdout",
     "output_type": "stream",
     "text": [
      "\n",
      "Data cleaning complete!\n"
     ]
    }
   ],
   "source": [
    "# Save the cleaned data to a new CSV\n",
    "df.to_csv('Cleaned_Electric_Vehicle_Population_Datas.csv', index=False)\n",
    "\n",
    "print(\"\\nData cleaning complete!\")"
   ]
  },
  {
   "cell_type": "code",
   "execution_count": null,
   "id": "2c55205d",
   "metadata": {},
   "outputs": [],
   "source": []
  }
 ],
 "metadata": {
  "kernelspec": {
   "display_name": "Python 3 (ipykernel)",
   "language": "python",
   "name": "python3"
  },
  "language_info": {
   "codemirror_mode": {
    "name": "ipython",
    "version": 3
   },
   "file_extension": ".py",
   "mimetype": "text/x-python",
   "name": "python",
   "nbconvert_exporter": "python",
   "pygments_lexer": "ipython3",
   "version": "3.10.9"
  }
 },
 "nbformat": 4,
 "nbformat_minor": 5
}
